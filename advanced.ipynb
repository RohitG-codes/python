{
 "cells": [
  {
   "cell_type": "code",
   "execution_count": null,
   "metadata": {},
   "outputs": [],
   "source": [
    "#list comprehension\n",
    "a=[1,2,3,4,5,6,7,8,9]\n",
    "b=[i for i in a if i%2==0]\n",
    "print(b)\n",
    "#set comprehension\n",
    "c=[1,2,3,4,1,2,3,4]\n",
    "d={j for j in c} #no duplicates are allowed in set\n",
    "print(d)"
   ]
  },
  {
   "cell_type": "code",
   "execution_count": 19,
   "metadata": {},
   "outputs": [
    {
     "name": "stdout",
     "output_type": "stream",
     "text": [
      "4 = rohit = 3 = raja = 2 = manju = 1 = rajen\n"
     ]
    }
   ],
   "source": [
    "#join\n",
    "a1=['4','rohit','3','raja','2','manju','1','rajen']\n",
    "b1=\" = \" . join(a1) #join only works with strings | you can anything in place of \" = \"\n",
    "print(b1)"
   ]
  }
 ],
 "metadata": {
  "kernelspec": {
   "display_name": "Python 3.10.6 64-bit",
   "language": "python",
   "name": "python3"
  },
  "language_info": {
   "codemirror_mode": {
    "name": "ipython",
    "version": 3
   },
   "file_extension": ".py",
   "mimetype": "text/x-python",
   "name": "python",
   "nbconvert_exporter": "python",
   "pygments_lexer": "ipython3",
   "version": "3.10.6"
  },
  "orig_nbformat": 4,
  "vscode": {
   "interpreter": {
    "hash": "8c3d4d9970fc5c09c50d9318a9c7fbf4d0159e4b28833276f5678ee22bded273"
   }
  }
 },
 "nbformat": 4,
 "nbformat_minor": 2
}
