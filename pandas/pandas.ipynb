{
 "cells": [
  {
   "cell_type": "code",
   "execution_count": 3,
   "metadata": {},
   "outputs": [
    {
     "name": "stdout",
     "output_type": "stream",
     "text": [
      "{'name': ['rohit', 'raja', 'manju', 'rajen'], 'age': [1, 2, 3, 4], 'city': ['a', 'b', 'c', 'd'], 'height': [6, 5, 5, 6]}\n",
      "    name  age city  height\n",
      "0  rohit    1    a       6\n",
      "1   raja    2    b       5\n",
      "2  manju    3    c       5\n",
      "3  rajen    4    d       6\n",
      "<bound method NDFrame.head of     name  age city  height\n",
      "0  rohit    1    a       6\n",
      "1   raja    2    b       5\n",
      "2  manju    3    c       5\n",
      "3  rajen    4    d       6>\n",
      "<bound method NDFrame.tail of     name  age city  height\n",
      "0  rohit    1    a       6\n",
      "1   raja    2    b       5\n",
      "2  manju    3    c       5\n",
      "3  rajen    4    d       6>\n",
      "    name  age city  height\n",
      "0  rohit    1    a       6\n",
      "    name  age city  height\n",
      "3  rajen    4    d       6\n",
      "            age   height\n",
      "count  4.000000  4.00000\n",
      "mean   2.500000  5.50000\n",
      "std    1.290994  0.57735\n",
      "min    1.000000  5.00000\n",
      "25%    1.750000  5.00000\n",
      "50%    2.500000  5.50000\n",
      "75%    3.250000  6.00000\n",
      "max    4.000000  6.00000\n",
      "   train no  speed     city\n",
      "0        11    132  kolkata\n",
      "1        12    147   jaipur\n",
      "2        13    160  kolkata\n",
      "0    132\n",
      "1    147\n",
      "2    160\n",
      "Name: speed, dtype: int64\n",
      "132\n",
      "132\n",
      "        train no  speed     city\n",
      "first         11    132  kolkata\n",
      "second        12    147   jaipur\n",
      "third         13    160  kolkata\n"
     ]
    },
    {
     "name": "stderr",
     "output_type": "stream",
     "text": [
      "C:\\Users\\Lenovo\\AppData\\Local\\Temp\\ipykernel_20124\\2654674335.py:24: SettingWithCopyWarning: \n",
      "A value is trying to be set on a copy of a slice from a DataFrame\n",
      "\n",
      "See the caveats in the documentation: https://pandas.pydata.org/pandas-docs/stable/user_guide/indexing.html#returning-a-view-versus-a-copy\n",
      "  df1['speed'][0]=132\n"
     ]
    }
   ],
   "source": [
    "#pandas basics\n",
    "import pandas as pd\n",
    "import numpy as np\n",
    "dict1={\n",
    "    'name':['rohit','raja','manju','rajen'],\n",
    "    'age':[1,2,3,4],\n",
    "    'city':['a','b','c','d'],\n",
    "    'height':[6,5,5,6]\n",
    "}\n",
    "print(dict1)\n",
    "df=pd.DataFrame(dict1)\n",
    "print(df)\n",
    "df.to_csv('1.csv') #all the data goes to 1.csv file\n",
    "df.to_csv('3.csv',index=False) #it will create a new csv file without any index\n",
    "print(df.head) #it will show some data from the starting\n",
    "print(df.tail) #it will show some data from the end\n",
    "print(df.head(1))\n",
    "print(df.tail(1))\n",
    "print(df.describe()) #it will do so many claculations of the given data\n",
    "df1=pd.read_csv('2.csv')\n",
    "print(df1)\n",
    "print(df1['speed'])\n",
    "print(df1['speed'][0])\n",
    "df1['speed'][0]=132\n",
    "print(df1['speed'][0])\n",
    "df1.to_csv('2.csv',index=False)\n",
    "df1.index=['first','second','third'] #changing the indexes\n",
    "print(df1)"
   ]
  },
  {
   "cell_type": "code",
   "execution_count": 5,
   "metadata": {},
   "outputs": [
    {
     "name": "stdout",
     "output_type": "stream",
     "text": [
      "0      0.054226\n",
      "1      0.446944\n",
      "2      0.974779\n",
      "3      0.128500\n",
      "4      0.608661\n",
      "         ...   \n",
      "329    0.141384\n",
      "330    0.957265\n",
      "331    0.158439\n",
      "332    0.575925\n",
      "333    0.864587\n",
      "Length: 334, dtype: float64\n",
      "0    0.054226\n",
      "1    0.446944\n",
      "2    0.974779\n",
      "3    0.128500\n",
      "4    0.608661\n",
      "dtype: float64\n",
      "329    0.141384\n",
      "330    0.957265\n",
      "331    0.158439\n",
      "332    0.575925\n",
      "333    0.864587\n",
      "dtype: float64\n",
      "0    0.054226\n",
      "1       rohit\n",
      "dtype: object\n",
      "RangeIndex(start=0, stop=334, step=1)\n",
      "<class 'pandas.core.series.Series'>\n"
     ]
    }
   ],
   "source": [
    "#pandas Series\n",
    "newdf=pd.Series(np.random.rand(334))\n",
    "print(newdf)\n",
    "print(newdf.head())\n",
    "print(newdf.tail()) #here dtype is float64\n",
    "newdf[1]='rohit'\n",
    "print(newdf.head(2)) #now the dtype will be an objec\n",
    "print(newdf.index) #it will give the index values\n",
    "print(type(newdf))"
   ]
  },
  {
   "cell_type": "code",
   "execution_count": 11,
   "metadata": {},
   "outputs": [
    {
     "name": "stdout",
     "output_type": "stream",
     "text": [
      "            0         1         2         3         4\n",
      "0    0.348235  0.631625  0.576752  0.292414  0.186269\n",
      "1    0.910633  0.149672  0.271794  0.132918  0.583031\n",
      "2    0.763225  0.034442  0.245055  0.001539  0.770371\n",
      "3    0.278260  0.956389  0.304797  0.281533  0.426367\n",
      "4    0.666332  0.450613  0.950234  0.152489  0.083392\n",
      "..        ...       ...       ...       ...       ...\n",
      "329  0.128304  0.552004  0.498822  0.411979  0.602513\n",
      "330  0.314965  0.902110  0.398895  0.036233  0.850254\n",
      "331  0.526117  0.288698  0.235531  0.777554  0.896924\n",
      "332  0.322602  0.473018  0.443679  0.944144  0.879886\n",
      "333  0.832158  0.738326  0.298746  0.502355  0.001885\n",
      "\n",
      "[334 rows x 5 columns]\n",
      "<class 'pandas.core.frame.DataFrame'>\n",
      "       0         1         2         3         4\n",
      "0  rohit  0.631625  0.576752  0.292414  0.186269\n",
      "0     object\n",
      "1    float64\n",
      "2    float64\n",
      "3    float64\n",
      "4    float64\n",
      "dtype: object\n",
      "            0         1         2         3         4\n",
      "333  0.832158  0.738326  0.298746  0.502355  0.001885\n",
      "RangeIndex(start=0, stop=334, step=1)\n",
      "RangeIndex(start=0, stop=5, step=1)\n",
      "[['rohit' 0.6316249415967393 0.5767523667540025 0.2924135125244326\n",
      "  0.18626944203779439]\n",
      " [0.9106327085333353 0.14967245462666312 0.27179399888516165\n",
      "  0.1329175133177395 0.5830308204196265]\n",
      " [0.7632253553019162 0.03444198196409809 0.2450554188222751\n",
      "  0.0015392038305325206 0.770371227597338]\n",
      " ...\n",
      " [0.5261167571192458 0.28869826834016765 0.23553128191962258\n",
      "  0.7775536489185572 0.8969243080995423]\n",
      " [0.32260181737074967 0.4730183732341776 0.4436794754387994\n",
      "  0.9441442618208074 0.8798858158589448]\n",
      " [0.8321577268837482 0.7383262405669325 0.29874598397713403\n",
      "  0.5023553007795042 0.0018845999151856363]]\n",
      "            4         3         2         1         0\n",
      "0    0.186269  0.292414  0.576752  0.631625     rohit\n",
      "1    0.583031  0.132918  0.271794  0.149672  0.910633\n",
      "2    0.770371  0.001539  0.245055  0.034442  0.763225\n",
      "3    0.426367  0.281533  0.304797  0.956389   0.27826\n",
      "4    0.083392  0.152489  0.950234  0.450613  0.666332\n",
      "..        ...       ...       ...       ...       ...\n",
      "329  0.602513  0.411979  0.498822  0.552004  0.128304\n",
      "330  0.850254  0.036233  0.398895  0.902110  0.314965\n",
      "331  0.896924  0.777554  0.235531  0.288698  0.526117\n",
      "332  0.879886  0.944144  0.443679  0.473018  0.322602\n",
      "333  0.001885  0.502355  0.298746  0.738326  0.832158\n",
      "\n",
      "[334 rows x 5 columns]\n",
      "            0         1         2         3         4\n",
      "333  0.832158  0.738326  0.298746  0.502355  0.001885\n",
      "332  0.322602  0.473018  0.443679  0.944144  0.879886\n",
      "331  0.526117  0.288698  0.235531  0.777554  0.896924\n",
      "330  0.314965  0.902110  0.398895  0.036233  0.850254\n",
      "329  0.128304  0.552004  0.498822  0.411979  0.602513\n",
      "..        ...       ...       ...       ...       ...\n",
      "4    0.666332  0.450613  0.950234  0.152489  0.083392\n",
      "3     0.27826  0.956389  0.304797  0.281533  0.426367\n",
      "2    0.763225  0.034442  0.245055  0.001539  0.770371\n",
      "1    0.910633  0.149672  0.271794  0.132918  0.583031\n",
      "0       rohit  0.631625  0.576752  0.292414  0.186269\n",
      "\n",
      "[334 rows x 5 columns]\n",
      "0         rohit\n",
      "1      0.910633\n",
      "2      0.763225\n",
      "3       0.27826\n",
      "4      0.666332\n",
      "         ...   \n",
      "329    0.128304\n",
      "330    0.314965\n",
      "331    0.526117\n",
      "332    0.322602\n",
      "333    0.832158\n",
      "Name: 0, Length: 334, dtype: object\n",
      "rohit\n",
      "            0         1         2         3         4\n",
      "0       rohit  0.631625  0.576752  0.292414  0.186269\n",
      "1    0.910633  0.149672  0.271794  0.132918  0.583031\n",
      "2    0.763225  0.034442  0.245055  0.001539  0.770371\n",
      "3     0.27826  0.956389  0.304797  0.281533  0.426367\n",
      "4    0.666332  0.450613  0.950234  0.152489  0.083392\n",
      "..        ...       ...       ...       ...       ...\n",
      "329  0.128304  0.552004  0.498822  0.411979  0.602513\n",
      "330  0.314965  0.902110  0.398895  0.036233  0.850254\n",
      "331  0.526117  0.288698  0.235531  0.777554  0.896924\n",
      "332  0.322602  0.473018  0.443679  0.944144  0.879886\n",
      "333  0.832158  0.738326  0.298746  0.502355  0.001885\n",
      "\n",
      "[334 rows x 5 columns]\n",
      "       0         1         2         3         4\n",
      "0  rohit  0.631625  0.576752  0.292414  0.186269\n",
      "       0         1         2         3         4\n",
      "0  rohit  0.631625  0.576752  0.292414  0.186269\n",
      "            0         1         2         3         4\n",
      "0       rohit  0.631625  0.576752  0.292414  0.186269\n",
      "1    0.910633  0.149672  0.271794  0.132918  0.583031\n",
      "2    0.763225  0.034442  0.245055  0.001539  0.770371\n",
      "3     0.27826  0.956389  0.304797  0.281533  0.426367\n",
      "4    0.666332  0.450613  0.950234  0.152489  0.083392\n",
      "..        ...       ...       ...       ...       ...\n",
      "329  0.128304  0.552004  0.498822  0.411979  0.602513\n",
      "330  0.314965  0.902110  0.398895  0.036233  0.850254\n",
      "331  0.526117  0.288698  0.235531  0.777554  0.896924\n",
      "332  0.322602  0.473018  0.443679  0.944144  0.879886\n",
      "333  0.832158  0.738326  0.298746  0.502355  0.001885\n",
      "\n",
      "[334 rows x 5 columns]\n",
      "       0         1         2         3         4\n",
      "0  rohit  0.631625  0.576752  0.292414  0.186269\n",
      "       0         1         2         3         4\n",
      "0  rohit  0.631625  0.576752  0.292414  0.186269\n"
     ]
    },
    {
     "name": "stderr",
     "output_type": "stream",
     "text": [
      "C:\\Users\\Lenovo\\AppData\\Local\\Temp\\ipykernel_20124\\3372615387.py:27: SettingWithCopyWarning: \n",
      "A value is trying to be set on a copy of a slice from a DataFrame\n",
      "\n",
      "See the caveats in the documentation: https://pandas.pydata.org/pandas-docs/stable/user_guide/indexing.html#returning-a-view-versus-a-copy\n",
      "  dfs3[0][0]='rohit'\n"
     ]
    }
   ],
   "source": [
    "# pandas dataframe\n",
    "dfs=pd.DataFrame(np.random.rand(334,5))\n",
    "print(dfs)\n",
    "print(type(dfs)) #here dtype of col1 is float64\n",
    "dfs[0][0]='rohit'\n",
    "print(dfs.head(1))\n",
    "print(dfs.dtypes) #here dtype of col1 is object\n",
    "print(dfs.tail(1))\n",
    "print(dfs.index)\n",
    "print(dfs.columns)\n",
    "dfs1=dfs.to_numpy() #converting pandas dataframe to numpy array\n",
    "print(dfs1)\n",
    "dfs.to_excel('1.xlsx')  #converting pandas dataframe to excel file\n",
    "dfs.to_csv('4.csv') #converting pandas dataframe to csv file\n",
    "#print(dfs.T.head()) #transpose \n",
    "print(dfs.sort_index(axis=1,ascending =False))\n",
    "print(dfs.sort_index(axis=0,ascending =False))\n",
    "print(dfs[0]) #it will print the whole col 0\n",
    "print(dfs[0][0]) #it will print the value at col 0,row 0\n",
    "dfs2=dfs\n",
    "print(dfs2)\n",
    "dfs2[0][0]='rohit'\n",
    "print(dfs2.head(1)) #here dfs2 is a view of dfs,if you change dfs2,dfs will also get changed,this is cloning\n",
    "print(dfs.head(1))\n",
    "dfs3=dfs.copy()\n",
    "print(dfs3)\n",
    "dfs3[0][0]='rohit'\n",
    "print(dfs3.head(1)) #here dfs2 is not a view of dfs,if you change dfs2,dfs will not get changed\n",
    "print(dfs.head(1))"
   ]
  },
  {
   "cell_type": "code",
   "execution_count": 15,
   "metadata": {},
   "outputs": [
    {
     "name": "stdout",
     "output_type": "stream",
     "text": [
      "   train no  speed     city\n",
      "0        11    132  kolkata\n",
      "1        12    147   jaipur\n",
      "2        13    160  kolkata\n",
      "   train no  speed     city\n",
      "0        11    111  kolkata\n",
      "1        12    147   jaipur\n",
      "2        13    160  kolkata\n",
      "   train no  speed     city\n",
      "0        11    111  kolkata\n",
      "1        12    147   jaipur\n",
      "2        13    160  kolkata\n",
      "   speed     city\n",
      "1    147   jaipur\n",
      "2    160  kolkata\n",
      "   speed     city\n",
      "0    111  kolkata\n",
      "1    147   jaipur\n",
      "2    160  kolkata\n",
      "   train no  speed     city\n",
      "1        12    147   jaipur\n",
      "2        13    160  kolkata\n",
      "   train no  speed     city\n",
      "0        11    111  kolkata\n",
      "1        12    147   jaipur\n",
      "   train no  speed     city\n",
      "0        11    111  kolkata\n",
      "1        12    147   jaipur\n",
      "   train no  speed     city\n",
      "0        11    111  kolkata\n",
      "2        13    160  kolkata\n",
      "   train no  speed     city\n",
      "0        11    111  kolkata\n",
      "    a    b        c\n",
      "x  11  111  kolkata\n",
      "y  12  147   jaipur\n",
      "z  13  160  kolkata\n",
      "kolkata\n",
      "    a    b\n",
      "y  12  147\n",
      "z  13  160\n"
     ]
    },
    {
     "name": "stderr",
     "output_type": "stream",
     "text": [
      "C:\\Users\\Lenovo\\AppData\\Local\\Temp\\ipykernel_20124\\632885245.py:4: SettingWithCopyWarning: \n",
      "A value is trying to be set on a copy of a slice from a DataFrame\n",
      "\n",
      "See the caveats in the documentation: https://pandas.pydata.org/pandas-docs/stable/user_guide/indexing.html#returning-a-view-versus-a-copy\n",
      "  dfs4['speed'][0]=111 #here a warning will occurr 'A value is trying to be set on a copy of a slice from a DataFrame'\n"
     ]
    },
    {
     "ename": "KeyError",
     "evalue": "'[0] not found in axis'",
     "output_type": "error",
     "traceback": [
      "\u001b[1;31m---------------------------------------------------------------------------\u001b[0m",
      "\u001b[1;31mKeyError\u001b[0m                                  Traceback (most recent call last)",
      "\u001b[1;32mc:\\Users\\Lenovo\\Documents\\vs code\\python\\pandas\\pandas.ipynb Cell 4\u001b[0m in \u001b[0;36m<cell line: 22>\u001b[1;34m()\u001b[0m\n\u001b[0;32m     <a href='vscode-notebook-cell:/c%3A/Users/Lenovo/Documents/vs%20code/python/pandas/pandas.ipynb#W3sZmlsZQ%3D%3D?line=18'>19</a>\u001b[0m \u001b[39m# print(dfs4.loc[0,'city']) #but in loc you have to pass the correct column or index name\u001b[39;00m\n\u001b[0;32m     <a href='vscode-notebook-cell:/c%3A/Users/Lenovo/Documents/vs%20code/python/pandas/pandas.ipynb#W3sZmlsZQ%3D%3D?line=19'>20</a>\u001b[0m \u001b[39m# print(dfs4['city'][0]) #this is normal representation \u001b[39;00m\n\u001b[0;32m     <a href='vscode-notebook-cell:/c%3A/Users/Lenovo/Documents/vs%20code/python/pandas/pandas.ipynb#W3sZmlsZQ%3D%3D?line=20'>21</a>\u001b[0m \u001b[39mprint\u001b[39m(dfs4\u001b[39m.\u001b[39miloc[[\u001b[39m1\u001b[39m,\u001b[39m2\u001b[39m],[\u001b[39m0\u001b[39m,\u001b[39m1\u001b[39m]]) \u001b[39m#here you don't have to write 'train no' or 'speed' or 'city'  \u001b[39;00m\n\u001b[1;32m---> <a href='vscode-notebook-cell:/c%3A/Users/Lenovo/Documents/vs%20code/python/pandas/pandas.ipynb#W3sZmlsZQ%3D%3D?line=21'>22</a>\u001b[0m \u001b[39mprint\u001b[39m(dfs4\u001b[39m.\u001b[39;49mdrop(\u001b[39m0\u001b[39;49m)) \u001b[39m#row 1 deleted --> print(dfs4.drop(0,axis=0))\u001b[39;00m\n\u001b[0;32m     <a href='vscode-notebook-cell:/c%3A/Users/Lenovo/Documents/vs%20code/python/pandas/pandas.ipynb#W3sZmlsZQ%3D%3D?line=22'>23</a>\u001b[0m \u001b[39mprint\u001b[39m(dfs4\u001b[39m.\u001b[39mdrop(\u001b[39m'\u001b[39m\u001b[39mcity\u001b[39m\u001b[39m'\u001b[39m,axis\u001b[39m=\u001b[39m\u001b[39m1\u001b[39m))  \u001b[39m#column 'city' deleted --> by default axis is 0 \u001b[39;00m\n\u001b[0;32m     <a href='vscode-notebook-cell:/c%3A/Users/Lenovo/Documents/vs%20code/python/pandas/pandas.ipynb#W3sZmlsZQ%3D%3D?line=23'>24</a>\u001b[0m \u001b[39mprint\u001b[39m(dfs4\u001b[39m.\u001b[39mdrop([\u001b[39m'\u001b[39m\u001b[39mcity\u001b[39m\u001b[39m'\u001b[39m,\u001b[39m'\u001b[39m\u001b[39mspeed\u001b[39m\u001b[39m'\u001b[39m],axis\u001b[39m=\u001b[39m\u001b[39m1\u001b[39m,inplace\u001b[39m=\u001b[39m\u001b[39mTrue\u001b[39;00m)) \u001b[39m#if you write inplace=True after axis=1 it will delete from the original file\u001b[39;00m\n",
      "File \u001b[1;32mc:\\Users\\Lenovo\\AppData\\Local\\Programs\\Python\\Python310\\lib\\site-packages\\pandas\\util\\_decorators.py:311\u001b[0m, in \u001b[0;36mdeprecate_nonkeyword_arguments.<locals>.decorate.<locals>.wrapper\u001b[1;34m(*args, **kwargs)\u001b[0m\n\u001b[0;32m    305\u001b[0m \u001b[39mif\u001b[39;00m \u001b[39mlen\u001b[39m(args) \u001b[39m>\u001b[39m num_allow_args:\n\u001b[0;32m    306\u001b[0m     warnings\u001b[39m.\u001b[39mwarn(\n\u001b[0;32m    307\u001b[0m         msg\u001b[39m.\u001b[39mformat(arguments\u001b[39m=\u001b[39marguments),\n\u001b[0;32m    308\u001b[0m         \u001b[39mFutureWarning\u001b[39;00m,\n\u001b[0;32m    309\u001b[0m         stacklevel\u001b[39m=\u001b[39mstacklevel,\n\u001b[0;32m    310\u001b[0m     )\n\u001b[1;32m--> 311\u001b[0m \u001b[39mreturn\u001b[39;00m func(\u001b[39m*\u001b[39margs, \u001b[39m*\u001b[39m\u001b[39m*\u001b[39mkwargs)\n",
      "File \u001b[1;32mc:\\Users\\Lenovo\\AppData\\Local\\Programs\\Python\\Python310\\lib\\site-packages\\pandas\\core\\frame.py:4954\u001b[0m, in \u001b[0;36mDataFrame.drop\u001b[1;34m(self, labels, axis, index, columns, level, inplace, errors)\u001b[0m\n\u001b[0;32m   4806\u001b[0m \u001b[39m@deprecate_nonkeyword_arguments\u001b[39m(version\u001b[39m=\u001b[39m\u001b[39mNone\u001b[39;00m, allowed_args\u001b[39m=\u001b[39m[\u001b[39m\"\u001b[39m\u001b[39mself\u001b[39m\u001b[39m\"\u001b[39m, \u001b[39m\"\u001b[39m\u001b[39mlabels\u001b[39m\u001b[39m\"\u001b[39m])\n\u001b[0;32m   4807\u001b[0m \u001b[39mdef\u001b[39;00m \u001b[39mdrop\u001b[39m(\n\u001b[0;32m   4808\u001b[0m     \u001b[39mself\u001b[39m,\n\u001b[1;32m   (...)\u001b[0m\n\u001b[0;32m   4815\u001b[0m     errors: \u001b[39mstr\u001b[39m \u001b[39m=\u001b[39m \u001b[39m\"\u001b[39m\u001b[39mraise\u001b[39m\u001b[39m\"\u001b[39m,\n\u001b[0;32m   4816\u001b[0m ):\n\u001b[0;32m   4817\u001b[0m     \u001b[39m\"\"\"\u001b[39;00m\n\u001b[0;32m   4818\u001b[0m \u001b[39m    Drop specified labels from rows or columns.\u001b[39;00m\n\u001b[0;32m   4819\u001b[0m \n\u001b[1;32m   (...)\u001b[0m\n\u001b[0;32m   4952\u001b[0m \u001b[39m            weight  1.0     0.8\u001b[39;00m\n\u001b[0;32m   4953\u001b[0m \u001b[39m    \"\"\"\u001b[39;00m\n\u001b[1;32m-> 4954\u001b[0m     \u001b[39mreturn\u001b[39;00m \u001b[39msuper\u001b[39;49m()\u001b[39m.\u001b[39;49mdrop(\n\u001b[0;32m   4955\u001b[0m         labels\u001b[39m=\u001b[39;49mlabels,\n\u001b[0;32m   4956\u001b[0m         axis\u001b[39m=\u001b[39;49maxis,\n\u001b[0;32m   4957\u001b[0m         index\u001b[39m=\u001b[39;49mindex,\n\u001b[0;32m   4958\u001b[0m         columns\u001b[39m=\u001b[39;49mcolumns,\n\u001b[0;32m   4959\u001b[0m         level\u001b[39m=\u001b[39;49mlevel,\n\u001b[0;32m   4960\u001b[0m         inplace\u001b[39m=\u001b[39;49minplace,\n\u001b[0;32m   4961\u001b[0m         errors\u001b[39m=\u001b[39;49merrors,\n\u001b[0;32m   4962\u001b[0m     )\n",
      "File \u001b[1;32mc:\\Users\\Lenovo\\AppData\\Local\\Programs\\Python\\Python310\\lib\\site-packages\\pandas\\core\\generic.py:4267\u001b[0m, in \u001b[0;36mNDFrame.drop\u001b[1;34m(self, labels, axis, index, columns, level, inplace, errors)\u001b[0m\n\u001b[0;32m   4265\u001b[0m \u001b[39mfor\u001b[39;00m axis, labels \u001b[39min\u001b[39;00m axes\u001b[39m.\u001b[39mitems():\n\u001b[0;32m   4266\u001b[0m     \u001b[39mif\u001b[39;00m labels \u001b[39mis\u001b[39;00m \u001b[39mnot\u001b[39;00m \u001b[39mNone\u001b[39;00m:\n\u001b[1;32m-> 4267\u001b[0m         obj \u001b[39m=\u001b[39m obj\u001b[39m.\u001b[39;49m_drop_axis(labels, axis, level\u001b[39m=\u001b[39;49mlevel, errors\u001b[39m=\u001b[39;49merrors)\n\u001b[0;32m   4269\u001b[0m \u001b[39mif\u001b[39;00m inplace:\n\u001b[0;32m   4270\u001b[0m     \u001b[39mself\u001b[39m\u001b[39m.\u001b[39m_update_inplace(obj)\n",
      "File \u001b[1;32mc:\\Users\\Lenovo\\AppData\\Local\\Programs\\Python\\Python310\\lib\\site-packages\\pandas\\core\\generic.py:4311\u001b[0m, in \u001b[0;36mNDFrame._drop_axis\u001b[1;34m(self, labels, axis, level, errors, consolidate, only_slice)\u001b[0m\n\u001b[0;32m   4309\u001b[0m         new_axis \u001b[39m=\u001b[39m axis\u001b[39m.\u001b[39mdrop(labels, level\u001b[39m=\u001b[39mlevel, errors\u001b[39m=\u001b[39merrors)\n\u001b[0;32m   4310\u001b[0m     \u001b[39melse\u001b[39;00m:\n\u001b[1;32m-> 4311\u001b[0m         new_axis \u001b[39m=\u001b[39m axis\u001b[39m.\u001b[39;49mdrop(labels, errors\u001b[39m=\u001b[39;49merrors)\n\u001b[0;32m   4312\u001b[0m     indexer \u001b[39m=\u001b[39m axis\u001b[39m.\u001b[39mget_indexer(new_axis)\n\u001b[0;32m   4314\u001b[0m \u001b[39m# Case for non-unique axis\u001b[39;00m\n\u001b[0;32m   4315\u001b[0m \u001b[39melse\u001b[39;00m:\n",
      "File \u001b[1;32mc:\\Users\\Lenovo\\AppData\\Local\\Programs\\Python\\Python310\\lib\\site-packages\\pandas\\core\\indexes\\base.py:6644\u001b[0m, in \u001b[0;36mIndex.drop\u001b[1;34m(self, labels, errors)\u001b[0m\n\u001b[0;32m   6642\u001b[0m \u001b[39mif\u001b[39;00m mask\u001b[39m.\u001b[39many():\n\u001b[0;32m   6643\u001b[0m     \u001b[39mif\u001b[39;00m errors \u001b[39m!=\u001b[39m \u001b[39m\"\u001b[39m\u001b[39mignore\u001b[39m\u001b[39m\"\u001b[39m:\n\u001b[1;32m-> 6644\u001b[0m         \u001b[39mraise\u001b[39;00m \u001b[39mKeyError\u001b[39;00m(\u001b[39mf\u001b[39m\u001b[39m\"\u001b[39m\u001b[39m{\u001b[39;00m\u001b[39mlist\u001b[39m(labels[mask])\u001b[39m}\u001b[39;00m\u001b[39m not found in axis\u001b[39m\u001b[39m\"\u001b[39m)\n\u001b[0;32m   6645\u001b[0m     indexer \u001b[39m=\u001b[39m indexer[\u001b[39m~\u001b[39mmask]\n\u001b[0;32m   6646\u001b[0m \u001b[39mreturn\u001b[39;00m \u001b[39mself\u001b[39m\u001b[39m.\u001b[39mdelete(indexer)\n",
      "\u001b[1;31mKeyError\u001b[0m: '[0] not found in axis'"
     ]
    }
   ],
   "source": [
    "#loc,iloc\n",
    "dfs4=pd.read_csv('2.csv')\n",
    "print(dfs4)\n",
    "dfs4['speed'][0]=111 #here a warning will occurr 'A value is trying to be set on a copy of a slice from a DataFrame'\n",
    "print(dfs4)   #to avoid this warning we use 'loc' or 'iloc' \n",
    "dfs4.loc[0,'speed']=111  #here the warning will not occurr\n",
    "print(dfs4)\n",
    "print(dfs4.loc[[1,2],['speed','city']])\n",
    "print(dfs4.loc[:,['speed','city']])\n",
    "print(dfs4.loc[[1,2],:])\n",
    "print(dfs4.loc[dfs4['speed']<150])\n",
    "print(dfs4.loc[dfs4['train no']<13])    #this is how you can write complex queries here\n",
    "print(dfs4.loc[dfs4['city']=='kolkata'])\n",
    "print(dfs4.loc[(dfs4['speed']<150) & (dfs4['train no']<13) & (dfs4['city']=='kolkata')])\n",
    "dfs4.columns=('a','b','c') #you can change the names like this\n",
    "dfs4.index=list('xyz') #you can also change the names like this\n",
    "print(dfs4)\n",
    "print(dfs4.iloc[0,2]) #iloc doesn't care about the column or index names\n",
    "print(dfs4.loc[0,'city']) #but in loc you have to pass the correct column or index name\n",
    "print(dfs4['city'][0]) #this is normal representation \n",
    "print(dfs4.iloc[[1,2],[0,1]]) #here you don't have to write 'train no' or 'speed' or 'city'  \n",
    "print(dfs4.drop(0)) #row 1 deleted --> print(dfs4.drop(0,axis=0))\n",
    "print(dfs4.drop('city',axis=1))  #column 'city' deleted --> by default axis is 0 \n",
    "print(dfs4.drop(['city','speed'],axis=1,inplace=True)) #if you write inplace=True after axis=1 it will delete from the original file\n",
    "print(dfs4.drop([1,2],inplace=True)) #by default axis is 0 --> print(dfs4.drop([1,2],axis=0))\n",
    "print(dfs4)\n",
    "dfs4.index=list('pqr') \n",
    "print(dfs4)\n",
    "print(dfs4.reset_index())\n",
    "print(dfs4.reset_index(drop=True))\n",
    "print(dfs4.isnull()) #here no value is none\n",
    "dfs4.loc[0,'city']=None\n",
    "print(dfs4)\n",
    "print(dfs4.isnull()) #here one value is none"
   ]
  },
  {
   "cell_type": "code",
   "execution_count": 12,
   "metadata": {},
   "outputs": [
    {
     "name": "stdout",
     "output_type": "stream",
     "text": [
      "   name  age       date\n",
      "0     a  NaN        NaT\n",
      "1     b  1.0 1940-04-11\n",
      "2     a  2.0        NaT\n",
      "3  None  NaN        NaT\n",
      "a    2\n",
      "b    1\n",
      "Name: name, dtype: int64\n",
      "a       2\n",
      "b       1\n",
      "None    1\n",
      "Name: name, dtype: int64\n",
      "a    2\n",
      "b    1\n",
      "Name: name, dtype: int64\n"
     ]
    }
   ],
   "source": [
    "dfs5=pd.DataFrame({\n",
    "                    'name':['a','b','a',None],\n",
    "                    'age':[np.nan,1,2,np.nan],\n",
    "                    'date':[pd.NaT,pd.Timestamp('1940-04-11'),pd.NaT,pd.NaT] #nat(Not a Time) is used when there is no data about time(like dob,year)\n",
    "                })\n",
    "print(dfs5)\n",
    "print(dfs5.dropna()) #it will remove all the rows where there is a na value\n",
    "print(dfs5.dropna(how='all')) #it will remove all the rows where there is a na value in each column\n",
    "print(dfs5.drop_duplicates(subset='name')) #delete the row where the duplicate is present in name | by default it is keep='First'\n",
    "print(dfs5.drop_duplicates(subset='name',keep='first')) #delete the row where the duplicate is found  |row 2 will bw deleted\n",
    "print(dfs5.drop_duplicates(subset='name',keep='last')) #delete the first row | row 0 will be deleted\n",
    "print(dfs5.drop_duplicates(subset='name',keep=False)) #delete both the rows |both row 0 and 2 will be deleted\n",
    "print(dfs5.info())\n",
    "print(dfs5['name'].value_counts(dropna=True)) #it will count how many a's or how many b's are there(it will not count none because it is given that dropna=true)\n",
    "print(dfs5['name'].value_counts(dropna=False)) #it will count how many a's or how many b's and how many none's are there \n",
    "print(dfs5['name'].value_counts()) # by default | dropna=True\n",
    "print(dfs5.notnull())\n",
    "print(dfs5.isnull())"
   ]
  },
  {
   "cell_type": "markdown",
   "metadata": {},
   "source": [
    "MATPLOTLIB (only work with numerical data)"
   ]
  },
  {
   "cell_type": "code",
   "execution_count": 11,
   "metadata": {},
   "outputs": [
    {
     "data": {
      "image/png": "[encoded data removed]",
      "text/plain": [
       "<Figure size 432x288 with 1 Axes>"
      ]
     },
     "metadata": {
      "needs_background": "light"
     },
     "output_type": "display_data"
    },
    {
     "data": {
      "image/png": "[encoded data removed]",
      "text/plain": [
       "<Figure size 432x288 with 1 Axes>"
      ]
     },
     "metadata": {
      "needs_background": "light"
     },
     "output_type": "display_data"
    }
   ],
   "source": [
    "#graph-plot\n",
    "\n",
    "from matplotlib import pyplot as plt\n",
    "#normal graph\n",
    "plt.plot([1,2,3],[4,5,6])\n",
    "plt.title('normal')\n",
    "plt.ylabel('y-axis')\n",
    "plt.xlabel('x-axis')\n",
    "plt.show()\n",
    "\n",
    "#graph of csv file\n",
    "plt.plot(df.age,df.height)\n",
    "plt.title('graph')\n",
    "plt.ylabel('height')\n",
    "plt.xlabel('age')\n",
    "plt.show()"
   ]
  },
  {
   "cell_type": "code",
   "execution_count": 10,
   "metadata": {},
   "outputs": [
    {
     "data": {
      "image/png": "[encoded data removed]",
      "text/plain": [
       "<Figure size 432x288 with 1 Axes>"
      ]
     },
     "metadata": {
      "needs_background": "light"
     },
     "output_type": "display_data"
    },
    {
     "data": {
      "image/png": "[encoded data removed]",
      "text/plain": [
       "<Figure size 432x288 with 1 Axes>"
      ]
     },
     "metadata": {
      "needs_background": "light"
     },
     "output_type": "display_data"
    }
   ],
   "source": [
    "#bar-plot\n",
    "#for categorical data we use bar-plot and categoriclal data should be in x-axis\n",
    "\n",
    "#normal bar\n",
    "plt.bar([1,2,3],[4,5,6])\n",
    "plt.title('normal')\n",
    "plt.ylabel('y-axis')\n",
    "plt.xlabel('x-axis')\n",
    "plt.show()\n",
    "\n",
    "#bar of csv file\n",
    "plt.bar(df.age,df.height)\n",
    "plt.title('bar')\n",
    "plt.ylabel('height')\n",
    "plt.xlabel('age')\n",
    "plt.show()"
   ]
  },
  {
   "cell_type": "code",
   "execution_count": 33,
   "metadata": {},
   "outputs": [
    {
     "data": {
      "image/png": "[encoded data removed]",
      "text/plain": [
       "<Figure size 432x288 with 1 Axes>"
      ]
     },
     "metadata": {
      "needs_background": "light"
     },
     "output_type": "display_data"
    },
    {
     "data": {
      "image/png": "[encoded data removed]",
      "text/plain": [
       "<Figure size 432x288 with 1 Axes>"
      ]
     },
     "metadata": {
      "needs_background": "light"
     },
     "output_type": "display_data"
    },
    {
     "data": {
      "image/png": "[encoded data removed]",
      "text/plain": [
       "<Figure size 432x288 with 2 Axes>"
      ]
     },
     "metadata": {
      "needs_background": "light"
     },
     "output_type": "display_data"
    }
   ],
   "source": [
    "#histogram\n",
    "#histogram always shown on the x-axis\n",
    "\n",
    "#normal histogram\n",
    "plt.hist([1,2,3,4,5,4,6,6,7,8,1,2,2,3,2,2,2,2,1,3,3,7,8,9]) #no of 2 = 7 | no of 1 = 3 -> this is how histogram is drawn\n",
    "plt.title('normal')\n",
    "plt.show()\n",
    "\n",
    "#histogram of csv file\n",
    "plt.hist(df.height)\n",
    "plt.title('histogram')\n",
    "plt.show()\n",
    "\n",
    "#if you want to show all the features in a single histogram\n",
    "df.hist()\n",
    "plt.show()"
   ]
  },
  {
   "cell_type": "code",
   "execution_count": 51,
   "metadata": {},
   "outputs": [
    {
     "data": {
      "image/png": "[encoded data removed]",
      "text/plain": [
       "<Figure size 432x288 with 1 Axes>"
      ]
     },
     "metadata": {},
     "output_type": "display_data"
    },
    {
     "data": {
      "image/png": "[encoded data removed]",
      "text/plain": [
       "<Figure size 432x288 with 1 Axes>"
      ]
     },
     "metadata": {},
     "output_type": "display_data"
    }
   ],
   "source": [
    "#pie chart\n",
    "a=[10,20,60,50]\n",
    "label=['math','science','hindi','english']\n",
    "plt.pie(a,labels=label)\n",
    "\n",
    "#you can also do this -> \n",
    "# colour=['green','blue','red','yellow']\n",
    "# plt.pie(a,labels=label,colors=colour,startangle=90,explode=(0.1,0.2,0,0))\n",
    "\n",
    "plt.show()\n",
    "\n",
    "plt.pie(df.height,labels=df.height)\n",
    "plt.show()"
   ]
  },
  {
   "cell_type": "code",
   "execution_count": 53,
   "metadata": {},
   "outputs": [
    {
     "data": {
      "image/png": "[encoded data removed]",
      "text/plain": [
       "<Figure size 432x288 with 1 Axes>"
      ]
     },
     "metadata": {
      "needs_background": "light"
     },
     "output_type": "display_data"
    },
    {
     "data": {
      "image/png": "[encoded data removed]",
      "text/plain": [
       "<Figure size 432x288 with 1 Axes>"
      ]
     },
     "metadata": {
      "needs_background": "light"
     },
     "output_type": "display_data"
    }
   ],
   "source": [
    "#box-plot\n",
    "\n",
    "plt.boxplot(df.height)\n",
    "plt.show()\n",
    "\n",
    "plt.boxplot(df.age)\n",
    "plt.show()\n"
   ]
  },
  {
   "cell_type": "code",
   "execution_count": 54,
   "metadata": {},
   "outputs": [
    {
     "data": {
      "image/png": "[encoded data removed]",
      "text/plain": [
       "<Figure size 432x288 with 1 Axes>"
      ]
     },
     "metadata": {
      "needs_background": "light"
     },
     "output_type": "display_data"
    },
    {
     "data": {
      "image/png": "[encoded data removed]",
      "text/plain": [
       "<Figure size 432x288 with 1 Axes>"
      ]
     },
     "metadata": {
      "needs_background": "light"
     },
     "output_type": "display_data"
    }
   ],
   "source": [
    "#violinplot\n",
    "\n",
    "plt.violinplot(df.height)\n",
    "plt.show()\n",
    "\n",
    "plt.violinplot(df.age)\n",
    "plt.show()\n"
   ]
  }
 ],
 "metadata": {
  "kernelspec": {
   "display_name": "Python 3.10.6 64-bit",
   "language": "python",
   "name": "python3"
  },
  "language_info": {
   "codemirror_mode": {
    "name": "ipython",
    "version": 3
   },
   "file_extension": ".py",
   "mimetype": "text/x-python",
   "name": "python",
   "nbconvert_exporter": "python",
   "pygments_lexer": "ipython3",
   "version": "3.10.6"
  },
  "orig_nbformat": 4,
  "vscode": {
   "interpreter": {
    "hash": "8c3d4d9970fc5c09c50d9318a9c7fbf4d0159e4b28833276f5678ee22bded273"
   }
  }
 },
 "nbformat": 4,
 "nbformat_minor": 2
}
