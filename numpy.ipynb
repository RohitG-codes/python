{
 "cells": [
  {
   "cell_type": "code",
   "execution_count": null,
   "metadata": {},
   "outputs": [],
   "source": [
    "#numpy basics\n",
    "import numpy as np\n",
    "a=np.array([1,2,3])\n",
    "print(a)\n",
    "print(type (a))\n",
    "print(a[2])\n",
    "print(a.dtype) #int32\n",
    "a1=np.array({1,2,3})  \n",
    "print(a1.dtype) #object\n",
    "a2=np.array([1,2,3],np.float64)\n",
    "print(a2.dtype) #float64\n",
    "zero=np.zeros((2,5))\n",
    "print(zero)\n",
    "emp=np.empty((2,4))\n",
    "print(emp)\n",
    "ar3=np.arange(99)\n",
    "print(ar3)\n",
    "print(ar3.reshape(3,33))\n",
    "print(ar3.flatten())\n",
    "print(ar3.ravel())\n",
    "\n",
    "\n",
    "\n"
   ]
  },
  {
   "cell_type": "code",
   "execution_count": 73,
   "metadata": {},
   "outputs": [
    {
     "name": "stdout",
     "output_type": "stream",
     "text": [
      "[[1, 2, 3], [4, 0, 6], [17, 8, 9]]\n",
      "<class 'list'>\n",
      "[[ 1  2  3]\n",
      " [ 4  0  6]\n",
      " [17  8  9]]\n",
      "<class 'numpy.ndarray'>\n",
      "[22 10 18]\n",
      "[ 6 10 34]\n",
      "[[ 1  4 17]\n",
      " [ 2  0  8]\n",
      " [ 3  6  9]]\n",
      "1234061789\n",
      "2\n",
      "9\n",
      "36\n",
      "6\n",
      "4\n",
      "[[0 1 2]\n",
      " [1 0 2]\n",
      " [1 2 0]]\n",
      "[2 2 2]\n",
      "[2 2 0]\n",
      "[0 1 0]\n",
      "[0 1 1]\n",
      "[[0 1 0]\n",
      " [1 0 1]\n",
      " [2 2 2]]\n",
      "[[0 1 2]\n",
      " [1 0 2]\n",
      " [1 2 0]]\n",
      "(array([1, 2, 2, 2], dtype=int64), array([2, 0, 1, 2], dtype=int64))\n",
      "<class 'list'>\n"
     ]
    }
   ],
   "source": [
    "#axis\n",
    "arr=[[1,2,3],[4,0,6],[17,8,9]]\n",
    "print(arr)\n",
    "print(type(arr)) #python list\n",
    "arr1=np.array(arr)\n",
    "print(arr1)\n",
    "print(type(arr1)) #numpy array\n",
    "print(arr1.sum(axis=0)) \n",
    "print(arr1.sum(axis=1))\n",
    "print(arr1.T) #transpose\n",
    "for i in arr1.flat:\n",
    "    print(i,end=\"\")\n",
    "print()\n",
    "print(arr1.ndim)\n",
    "print(arr1.size)\n",
    "print(arr1.nbytes)\n",
    "print(arr1.argmax()) #return the index where the max(17) value is present\n",
    "print(arr1.argmin()) #return the index where the min(0) value is present\n",
    "print(arr1.argsort()) #it will sort the elements and return index values \n",
    "print(arr1.argmax(axis=0)) \n",
    "print(arr1.argmax(axis=1)) \n",
    "print(arr1.argmin(axis=0))\n",
    "print(arr1.argmin(axis=1))\n",
    "print(arr1.argsort(axis=0))\n",
    "print(arr1.argsort(axis=1))\n",
    "print(np.where(arr1>5))\n",
    "arr2=arr1.tolist()\n",
    "print(type(arr2))\n",
    "\n",
    "\n",
    "\n"
   ]
  },
  {
   "cell_type": "code",
   "execution_count": 74,
   "metadata": {},
   "outputs": [
    {
     "name": "stdout",
     "output_type": "stream",
     "text": [
      "112\n",
      "16\n"
     ]
    }
   ],
   "source": [
    "#memory space difference\n",
    "import sys\n",
    "py_list=[1,2,3,4]\n",
    "numpy_array=np.array([1,2,3,4])\n",
    "print(sys.getsizeof(1)*len(py_list))\n",
    "print(numpy_array.itemsize*numpy_array.size)\n",
    "\n"
   ]
  }
 ],
 "metadata": {
  "kernelspec": {
   "display_name": "Python 3.10.6 64-bit",
   "language": "python",
   "name": "python3"
  },
  "language_info": {
   "codemirror_mode": {
    "name": "ipython",
    "version": 3
   },
   "file_extension": ".py",
   "mimetype": "text/x-python",
   "name": "python",
   "nbconvert_exporter": "python",
   "pygments_lexer": "ipython3",
   "version": "3.10.6 (tags/v3.10.6:9c7b4bd, Aug  1 2022, 21:53:49) [MSC v.1932 64 bit (AMD64)]"
  },
  "orig_nbformat": 4,
  "vscode": {
   "interpreter": {
    "hash": "8c3d4d9970fc5c09c50d9318a9c7fbf4d0159e4b28833276f5678ee22bded273"
   }
  }
 },
 "nbformat": 4,
 "nbformat_minor": 2
}
