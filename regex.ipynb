{
 "cells": [
  {
   "cell_type": "code",
   "execution_count": 1,
   "metadata": {},
   "outputs": [
    {
     "name": "stdout",
     "output_type": "stream",
     "text": [
      "we need to inform him about the latest information\n",
      "       which is happening\n",
      "inform is present\n",
      "inform\n",
      "inform\n"
     ]
    }
   ],
   "source": [
    "import re\n",
    "#finding a word\n",
    "str='''we need to inform him about the latest information\n",
    "       which is happening'''\n",
    "print(str)\n",
    "if re.search('inform',str):\n",
    "    print('inform is present')\n",
    "inform_count=re.findall('inform',str) # here there are two inform one is after 'to' and another is after latest\n",
    "for i in inform_count:\n",
    "    print(i)\n",
    "\n"
   ]
  },
  {
   "cell_type": "code",
   "execution_count": null,
   "metadata": {},
   "outputs": [],
   "source": [
    "#get the starting and ending index of a particular string\n",
    "st1r='''we need to inform him about the latest information\n",
    "       which is happening'''\n",
    "ind=re.finditer('inform',str)\n",
    "for i in ind:\n",
    "    tup=i.span() #converting the output into a tuple\n",
    "    print(tup)"
   ]
  },
  {
   "cell_type": "code",
   "execution_count": null,
   "metadata": {},
   "outputs": [],
   "source": [
    "#match words with a particular pattern\n",
    "str2='''Sat hat mat pat'''\n",
    "match_str=re.findall('[shmp]at',str2) #it will not print Sat ,because in the condition we give lowercase s\n",
    "for i in match_str:\n",
    "    print(i)\n"
   ]
  },
  {
   "cell_type": "code",
   "execution_count": null,
   "metadata": {},
   "outputs": [],
   "source": [
    "#match series of range of characters\n",
    "str3='''Sat mat pat rat hat'''\n",
    "allstr=re.findall('[a-z]at',str3) #from a to z along with at #it will not print Sat ,because in the condition we give lowercase s\n",
    "for i in allstr:\n",
    "    print(i)\n",
    "allstr1=re.findall('[^a-z]at',str3) # ^ - caret sign | it means everthing but [a-z]at\n",
    "print()\n",
    "for i in allstr1:\n",
    "    print(i)"
   ]
  },
  {
   "cell_type": "code",
   "execution_count": null,
   "metadata": {},
   "outputs": [],
   "source": [
    "#replace a string\n",
    "str4='''hat mat pat Sat'''\n",
    "regex=re.compile('[h]at') #the word i want to replace\n",
    "repl=regex.sub('Rohit',str4) #sub means substitute\n",
    "print(repl)\n",
    "str5='''\n",
    "Keep the blue flag\n",
    "flying high\n",
    "in the sky\n",
    "'''\n",
    "newl=re.compile('\\n') #replacing new line with blank space\n",
    "without_newl=newl.sub(\" \",str5)\n",
    "print(without_newl)"
   ]
  },
  {
   "cell_type": "code",
   "execution_count": null,
   "metadata": {},
   "outputs": [],
   "source": [
    "#raw string\n",
    "str6=\"it's \\\\drogba\"\n",
    "print(str6) #output - it's \\drogba\n",
    "print(r\"it's \\\\drogba\")"
   ]
  },
  {
   "cell_type": "code",
   "execution_count": 56,
   "metadata": {},
   "outputs": [
    {
     "name": "stdout",
     "output_type": "stream",
     "text": [
      "matches :  9\n",
      "matches :  10\n",
      "matches :  5\n"
     ]
    }
   ],
   "source": [
    "#match a single character\n",
    "str7='123456789'\n",
    "print('matches : ',len(re.findall('\\d',str7)))  #it will give how many total numbers are there\n",
    "str8='1111111111'\n",
    "print('matches : ',len(re.findall('\\d{1}',str8))) #it will give how many 1's are there\n",
    "str9='1 12 123 1234 12345 123456 1234567 12345678 123456789'\n",
    "print('matches : ',len(re.findall('\\d{5,9}',str9))) #it will give how many numbers are there which have numbers between 5 to 9"
   ]
  },
  {
   "cell_type": "code",
   "execution_count": null,
   "metadata": {},
   "outputs": [],
   "source": [
    "#validating a phone number\n",
    "ph_no= ''' 412-155-3636''' # ph_no= ''' 41112-15+363116''' try this phone number also\n",
    "if re.search('\\w{3}-\\w{3}-\\w{4}',ph_no): #w{3} means there are 3 elements in w\n",
    "    print('this is a valid phone number')\n",
    "else:\n",
    "    print('this is not a valid phone number')    "
   ]
  },
  {
   "cell_type": "code",
   "execution_count": null,
   "metadata": {},
   "outputs": [],
   "source": [
    "#validating a name\n",
    "nam=\"Rohit Gupta\" #nam = \" R Gupta\" try this name also\n",
    "if re.search('\\w{2,20}\\s\\w{2,20}',nam): #w{2,20} means there are 2 to 20 elements in w\n",
    "    print('this is a valid name')\n",
    "else:\n",
    "    print('this is not a valid name')"
   ]
  },
  {
   "cell_type": "code",
   "execution_count": null,
   "metadata": {},
   "outputs": [],
   "source": [
    "#split method\n",
    "lines='''some-files_have+a.c as|nothing'''\n",
    "print(lines.split()) #it will split from where the space is\n",
    "print(re.split(pattern=r'[-_\\+\\. \\|]',string=lines)) #this split method in regular expression"
   ]
  },
  {
   "cell_type": "code",
   "execution_count": 73,
   "metadata": {},
   "outputs": [],
   "source": [
    "# symbols or operations\n",
    "# \\n -> newline\n",
    "# \\b -> backspace\n",
    "# \\r -> carriage return\n",
    "# \\t -> tab\n",
    "# \\v -> vertical tab\n",
    "# \\f -> formfeed\n",
    "# \\d -> [ 0-9 ]\n",
    "# \\D -> [ ^ 0-9 ]\n",
    "# \\w -> [ a-z A-Z 0-9 _ ]\n",
    "# \\W -> [ ^ a-z A-Z 0-9 _ ]\n",
    "# \\s -> [ \\f \\n \\r \\t \\v]\n",
    "# \\S -> [ ^ \\f \\n \\r \\t \\v]"
   ]
  }
 ],
 "metadata": {
  "kernelspec": {
   "display_name": "Python 3.10.6 64-bit",
   "language": "python",
   "name": "python3"
  },
  "language_info": {
   "codemirror_mode": {
    "name": "ipython",
    "version": 3
   },
   "file_extension": ".py",
   "mimetype": "text/x-python",
   "name": "python",
   "nbconvert_exporter": "python",
   "pygments_lexer": "ipython3",
   "version": "3.10.6"
  },
  "orig_nbformat": 4,
  "vscode": {
   "interpreter": {
    "hash": "8c3d4d9970fc5c09c50d9318a9c7fbf4d0159e4b28833276f5678ee22bded273"
   }
  }
 },
 "nbformat": 4,
 "nbformat_minor": 2
}
